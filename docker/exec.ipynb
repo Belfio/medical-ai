{
 "cells": [
  {
   "cell_type": "code",
   "execution_count": null,
   "id": "import-libraries",
   "metadata": {},
   "outputs": [],
   "source": [
    "import pandas as pd\n",
    "from PIL import Image\n",
    "\n",
    "# Load the dataset\n",
    "data_path = '/app/data.csv'\n",
    "data = pd.read_csv(data_path)\n",
    "\n",
    "# Load the image\n",
    "image_path = '/app/image.png'\n",
    "image = Image.open(image_path)\n",
    "image.show()\n",
    "\n",
    "\n",
    "# python train_model.py --data path_to_data.csv --output model.pkl\n",
    "\n",
    "\n",
    "# model = joblib.load('model.pkl')\n",
    "# predictions = model.predict(new_data)\n",
    "\n",
    "# Perform the sum operation\n",
    "total_sum = data['value'].sum()\n",
    "print(f'The sum of all values is: {total_sum}')\n",
    "\n",
    "\n",
    "result = total_sum \n",
    "# Write the result to a file called result.txt\n",
    "with open('result.txt', 'w') as file:\n",
    "    file.write(str(result))\n",
    "\n"
   ]
  }
 ],
 "metadata": {
  "kernelspec": {
   "display_name": "Python 3",
   "language": "python",
   "name": "python3"
  },
  "language_info": {
   "codemirror_mode": {
    "name": "ipython",
    "version": 3
   },
   "file_extension": ".py",
   "mimetype": "text/x-python",
   "name": "python",
   "nbconvert_exporter": "python",
   "pygments_lexer": "ipython3",
   "version": "3.9.0"
  }
 },
 "nbformat": 4,
 "nbformat_minor": 5
}
